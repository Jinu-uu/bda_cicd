{
 "cells": [
  {
   "cell_type": "code",
   "execution_count": 2,
   "metadata": {},
   "outputs": [],
   "source": [
    "import gspread\n",
    "import os\n",
    "from dotenv import load_dotenv\n",
    "import pandas as pd\n",
    "\n",
    "# json 파일이 위치한 경로를 값으로 줘야 합니다.\n",
    "\n",
    "json_file_path = os.environ.get('GCP_JSON_PATH')\n",
    "\n",
    "gc = gspread.service_account(json_file_path)\n",
    "\n",
    "spreadsheet_url = os.environ.get('SHEET_URL')\n",
    "doc = gc.open_by_url(spreadsheet_url)\n",
    "\n",
    "main_worksheet = doc.worksheet(\"총명단\")\n",
    "python_attendance = doc.worksheet(\"Python 문법 기초반\")"
   ]
  },
  {
   "cell_type": "code",
   "execution_count": 6,
   "metadata": {},
   "outputs": [
    {
     "data": {
      "text/html": [
       "<div>\n",
       "<style scoped>\n",
       "    .dataframe tbody tr th:only-of-type {\n",
       "        vertical-align: middle;\n",
       "    }\n",
       "\n",
       "    .dataframe tbody tr th {\n",
       "        vertical-align: top;\n",
       "    }\n",
       "\n",
       "    .dataframe thead th {\n",
       "        text-align: right;\n",
       "    }\n",
       "</style>\n",
       "<table border=\"1\" class=\"dataframe\">\n",
       "  <thead>\n",
       "    <tr style=\"text-align: right;\">\n",
       "      <th></th>\n",
       "      <th>이름(원래 이름)</th>\n",
       "      <th>기간(분)</th>\n",
       "      <th>출첵</th>\n",
       "    </tr>\n",
       "  </thead>\n",
       "  <tbody>\n",
       "    <tr>\n",
       "      <th>0</th>\n",
       "      <td>강빈21</td>\n",
       "      <td>12.0</td>\n",
       "      <td>지각</td>\n",
       "    </tr>\n",
       "    <tr>\n",
       "      <th>1</th>\n",
       "      <td>강서윤69</td>\n",
       "      <td>0.0</td>\n",
       "      <td>X</td>\n",
       "    </tr>\n",
       "    <tr>\n",
       "      <th>2</th>\n",
       "      <td>강수빈08</td>\n",
       "      <td>58.0</td>\n",
       "      <td>O</td>\n",
       "    </tr>\n",
       "    <tr>\n",
       "      <th>3</th>\n",
       "      <td>강예은46</td>\n",
       "      <td>59.0</td>\n",
       "      <td>O</td>\n",
       "    </tr>\n",
       "    <tr>\n",
       "      <th>4</th>\n",
       "      <td>강지웅11</td>\n",
       "      <td>57.0</td>\n",
       "      <td>O</td>\n",
       "    </tr>\n",
       "    <tr>\n",
       "      <th>...</th>\n",
       "      <td>...</td>\n",
       "      <td>...</td>\n",
       "      <td>...</td>\n",
       "    </tr>\n",
       "    <tr>\n",
       "      <th>220</th>\n",
       "      <td>한소리67</td>\n",
       "      <td>56.0</td>\n",
       "      <td>O</td>\n",
       "    </tr>\n",
       "    <tr>\n",
       "      <th>221</th>\n",
       "      <td>한혜인88</td>\n",
       "      <td>0.0</td>\n",
       "      <td>X</td>\n",
       "    </tr>\n",
       "    <tr>\n",
       "      <th>222</th>\n",
       "      <td>황정현60</td>\n",
       "      <td>54.0</td>\n",
       "      <td>O</td>\n",
       "    </tr>\n",
       "    <tr>\n",
       "      <th>223</th>\n",
       "      <td>황지희73</td>\n",
       "      <td>0.0</td>\n",
       "      <td>X</td>\n",
       "    </tr>\n",
       "    <tr>\n",
       "      <th>224</th>\n",
       "      <td>황현하18</td>\n",
       "      <td>51.0</td>\n",
       "      <td>O</td>\n",
       "    </tr>\n",
       "  </tbody>\n",
       "</table>\n",
       "<p>225 rows × 3 columns</p>\n",
       "</div>"
      ],
      "text/plain": [
       "    이름(원래 이름)  기간(분)  출첵\n",
       "0        강빈21   12.0  지각\n",
       "1       강서윤69    0.0   X\n",
       "2       강수빈08   58.0   O\n",
       "3       강예은46   59.0   O\n",
       "4       강지웅11   57.0   O\n",
       "..        ...    ...  ..\n",
       "220     한소리67   56.0   O\n",
       "221     한혜인88    0.0   X\n",
       "222     황정현60   54.0   O\n",
       "223     황지희73    0.0   X\n",
       "224     황현하18   51.0   O\n",
       "\n",
       "[225 rows x 3 columns]"
      ]
     },
     "execution_count": 6,
     "metadata": {},
     "output_type": "execute_result"
    }
   ],
   "source": [
    "df = pd.read_csv(\"zoom_logs/8기 파문기_1주차.csv\")\n",
    "jun_time = df[df['게스트'] == '아니요']['기간(분)'][0]\n",
    "df['이름(원래 이름)'] = df['이름(원래 이름)'].apply(lambda x : x.split('(')[0].replace(' ','').replace('_',''))\n",
    "range_list = [x.value for x in python_attendance.range('A4:A400')]\n",
    "merge_df = pd.merge(pd.DataFrame(range_list, columns=['이름(원래 이름)']), df.groupby(['이름(원래 이름)'])['기간(분)'].sum().reset_index(), on='이름(원래 이름)', how='left').fillna(0)\n",
    "merge_df\n",
    "merge_df['출첵'] = merge_df['기간(분)'].apply(lambda x : 'O' if jun_time-10 <= x else ('지각' if x != 0 else 'X'))\n",
    "results_df = merge_df[merge_df['이름(원래 이름)'] != '']\n",
    "results_df"
   ]
  },
  {
   "cell_type": "code",
   "execution_count": 8,
   "metadata": {},
   "outputs": [
    {
     "data": {
      "text/plain": [
       "{'spreadsheetId': '1pmYiv4pl_ec3sE7puBIuyuqaMy2nlCiPIvhfA_oRoP8',\n",
       " 'updatedRange': \"'Python 문법 기초반'!F4:F229\",\n",
       " 'updatedRows': 226,\n",
       " 'updatedColumns': 1,\n",
       " 'updatedCells': 226}"
      ]
     },
     "execution_count": 8,
     "metadata": {},
     "output_type": "execute_result"
    }
   ],
   "source": [
    "cell_list = python_attendance.range(f'F4:F{4+len(results_df)}')\n",
    "\n",
    "for i, val in enumerate(results_df['출첵']):  #gives us a tuple of an index and value\n",
    "    cell_list[i].value = val    #use the index on cell_list and the val from cell_values\n",
    "\n",
    "python_attendance.update_cells(cell_list)"
   ]
  },
  {
   "cell_type": "code",
   "execution_count": null,
   "metadata": {},
   "outputs": [],
   "source": []
  }
 ],
 "metadata": {
  "kernelspec": {
   "display_name": "bda",
   "language": "python",
   "name": "python3"
  },
  "language_info": {
   "codemirror_mode": {
    "name": "ipython",
    "version": 3
   },
   "file_extension": ".py",
   "mimetype": "text/x-python",
   "name": "python",
   "nbconvert_exporter": "python",
   "pygments_lexer": "ipython3",
   "version": "3.8.19"
  }
 },
 "nbformat": 4,
 "nbformat_minor": 2
}
