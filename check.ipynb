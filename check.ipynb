{
 "cells": [
  {
   "cell_type": "code",
   "execution_count": 1,
   "metadata": {},
   "outputs": [],
   "source": [
    "import gspread\n",
    "import os\n",
    "import dotenv\n",
    "import requests, json\n",
    "import pandas as pd\n",
    "import unicodedata\n",
    "\n",
    "from dotenv import load_dotenv"
   ]
  },
  {
   "cell_type": "code",
   "execution_count": 35,
   "metadata": {},
   "outputs": [],
   "source": [
    "load_dotenv()\n",
    "notion_token = os.environ.get('NOTION_API')\n",
    "notion_header = {\n",
    "    \"Authorization\":\"Bearer \"+ notion_token,\n",
    "    \"Notion-Version\":\"2022-06-28\"\n",
    "}\n",
    "notion_database_read_url = f\"https://api.notion.com/v1/databases/989be6df0f7e401cb07c186e0c6e2306/query\""
   ]
  },
  {
   "cell_type": "code",
   "execution_count": 36,
   "metadata": {},
   "outputs": [],
   "source": [
    "params = {}\n",
    "pages_and_databases = []\n",
    "\n",
    "while True:\n",
    "    search_response = requests.post(notion_database_read_url, json=params, headers=notion_header)\n",
    "    if search_response.ok is False: break\n",
    "    search_response_obj = search_response.json()\n",
    "    pages_and_databases.extend(search_response_obj.get(\"results\"))\n",
    "    params[\"start_cursor\"] = search_response_obj.get(\"next_cursor\")"
   ]
  },
  {
   "cell_type": "code",
   "execution_count": 37,
   "metadata": {},
   "outputs": [],
   "source": [
    "column_name = [x for x in list(pages_and_databases[0]['properties'].keys()) if f\"({6}주차)\" in x][0]\n",
    "week_hw_data = []\n",
    "for info in pages_and_databases:\n",
    "    name = ''\n",
    "    if info['properties']['이름']['title']:\n",
    "        name = unicodedata.normalize('NFC', info['properties']['이름']['title'][0]['plain_text'])\n",
    "    week_hw_data.append(name)"
   ]
  },
  {
   "cell_type": "code",
   "execution_count": 45,
   "metadata": {},
   "outputs": [],
   "source": [
    "json_file_path = os.environ.get('GCP_JSON_PATH')\n",
    "\n",
    "gc = gspread.service_account(json_file_path)\n",
    "spreadsheet_url = os.environ.get('SHEET_URL')\n",
    "doc = gc.open_by_url(spreadsheet_url)\n",
    "\n"
   ]
  },
  {
   "cell_type": "code",
   "execution_count": 48,
   "metadata": {},
   "outputs": [
    {
     "data": {
      "text/plain": [
       "107"
      ]
     },
     "execution_count": 48,
     "metadata": {},
     "output_type": "execute_result"
    }
   ],
   "source": [
    "attendance = doc.worksheet(\"데이터 분석 입문반(통계)\")\n",
    "range_list = [x.value for x in attendance.range('A4:A300') if x.value != '']\n",
    "len(range_list)"
   ]
  },
  {
   "cell_type": "code",
   "execution_count": 49,
   "metadata": {},
   "outputs": [
    {
     "data": {
      "text/plain": [
       "104"
      ]
     },
     "execution_count": 49,
     "metadata": {},
     "output_type": "execute_result"
    }
   ],
   "source": [
    "attendance = doc.worksheet(\"데이터 분석 전처리 적용반\")\n",
    "range_list = [x.value for x in attendance.range('A4:A300') if x.value != '']\n",
    "len(range_list)"
   ]
  },
  {
   "cell_type": "code",
   "execution_count": 20,
   "metadata": {},
   "outputs": [
    {
     "ename": "TypeError",
     "evalue": "'Worksheet' object is not iterable",
     "output_type": "error",
     "traceback": [
      "\u001b[1;31m---------------------------------------------------------------------------\u001b[0m",
      "\u001b[1;31mTypeError\u001b[0m                                 Traceback (most recent call last)",
      "Cell \u001b[1;32mIn[20], line 1\u001b[0m\n\u001b[1;32m----> 1\u001b[0m \u001b[38;5;28;01mfor\u001b[39;00m i, val \u001b[38;5;129;01min\u001b[39;00m \u001b[38;5;28;43menumerate\u001b[39;49m\u001b[43m(\u001b[49m\u001b[43mattendance\u001b[49m\u001b[43m)\u001b[49m:\n\u001b[0;32m      2\u001b[0m     \u001b[38;5;28mprint\u001b[39m(i, val)\n",
      "\u001b[1;31mTypeError\u001b[0m: 'Worksheet' object is not iterable"
     ]
    }
   ],
   "source": [
    "for i, val in enumerate(attendance):\n",
    "    print(i, val)"
   ]
  },
  {
   "cell_type": "code",
   "execution_count": null,
   "metadata": {},
   "outputs": [],
   "source": [
    "week_hw_data"
   ]
  },
  {
   "cell_type": "code",
   "execution_count": 19,
   "metadata": {},
   "outputs": [
    {
     "data": {
      "text/plain": [
       "gspread.worksheet.Worksheet"
      ]
     },
     "execution_count": 19,
     "metadata": {},
     "output_type": "execute_result"
    }
   ],
   "source": [
    "type(attendance)"
   ]
  },
  {
   "cell_type": "code",
   "execution_count": null,
   "metadata": {},
   "outputs": [],
   "source": []
  }
 ],
 "metadata": {
  "kernelspec": {
   "display_name": "bda",
   "language": "python",
   "name": "python3"
  },
  "language_info": {
   "codemirror_mode": {
    "name": "ipython",
    "version": 3
   },
   "file_extension": ".py",
   "mimetype": "text/x-python",
   "name": "python",
   "nbconvert_exporter": "python",
   "pygments_lexer": "ipython3",
   "version": "3.8.19"
  }
 },
 "nbformat": 4,
 "nbformat_minor": 2
}
