{
 "cells": [
  {
   "cell_type": "code",
   "execution_count": 1,
   "metadata": {},
   "outputs": [],
   "source": [
    "import gspread\n",
    "import os\n",
    "from dotenv import load_dotenv\n",
    "\n",
    "# json 파일이 위치한 경로를 값으로 줘야 합니다.\n",
    "\n",
    "json_file_path = os.environ.get('GCP_JSON_PATH')\n",
    "\n",
    "gc = gspread.service_account(json_file_path)\n",
    "\n",
    "spreadsheet_url = os.environ.get('SHEET_URL')\n",
    "doc = gc.open_by_url(spreadsheet_url)\n",
    "\n",
    "worksheet = doc.worksheet(\"시트1\")"
   ]
  },
  {
   "cell_type": "code",
   "execution_count": 2,
   "metadata": {},
   "outputs": [
    {
     "name": "stdout",
     "output_type": "stream",
     "text": [
      "이름\n",
      "['반', '이름', '식별자', '이메일', '전화번호', '소속대학']\n",
      "['반', '0001', '0001', '0001', '0001', '0001', '0001', '0001', '0001', '0001', '0001', '0001', '0001', '0001', '0001', '0001', '0001', '0001', '0001', '0001', '0001', '0001', '0001', '0001', '0001']\n",
      "반\n",
      "이름\n",
      "식별자\n",
      "이메일\n",
      "0001\n",
      "강빈\n",
      "강빈21\n",
      "biny000201@naver.com\n"
     ]
    }
   ],
   "source": [
    "cell_data = worksheet.acell('B1').value\n",
    "print(cell_data)\n",
    "# 1개 셀 읽기\n",
    "\n",
    "row_data = worksheet.row_values(1)\n",
    "print(row_data)\n",
    "# 행 데이터 읽기\n",
    "\n",
    "column_data = worksheet.col_values(1)\n",
    "print(column_data)\n",
    "# 열 데이터 읽기\n",
    "\n",
    "range_list = worksheet.range('A1:D2')\n",
    "for cell in range_list:\n",
    "    print(cell.value)\n",
    "# 특정범위 읽기"
   ]
  },
  {
   "cell_type": "code",
   "execution_count": null,
   "metadata": {},
   "outputs": [],
   "source": []
  }
 ],
 "metadata": {
  "kernelspec": {
   "display_name": "bda",
   "language": "python",
   "name": "python3"
  },
  "language_info": {
   "codemirror_mode": {
    "name": "ipython",
    "version": 3
   },
   "file_extension": ".py",
   "mimetype": "text/x-python",
   "name": "python",
   "nbconvert_exporter": "python",
   "pygments_lexer": "ipython3",
   "version": "3.8.19"
  }
 },
 "nbformat": 4,
 "nbformat_minor": 2
}
